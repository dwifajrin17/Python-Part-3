{
 "cells": [
  {
   "cell_type": "markdown",
   "id": "3d9e38fb",
   "metadata": {},
   "source": [
    "sys\n",
    "\n",
    "   - This module provides access to some variables used or maintained by the interpreter and to functions that interact strongly with the interpreter"
   ]
  },
  {
   "cell_type": "code",
   "execution_count": 3,
   "id": "5d4766f7",
   "metadata": {},
   "outputs": [],
   "source": [
    "import sys"
   ]
  },
  {
   "cell_type": "code",
   "execution_count": 4,
   "id": "29983db4",
   "metadata": {},
   "outputs": [
    {
     "name": "stdout",
     "output_type": "stream",
     "text": [
      "enter a number9\n",
      "enter a number to divide by0\n",
      "<class 'ZeroDivisionError'>\n",
      "this did not work. did you try to divide by zero or something?\n"
     ]
    }
   ],
   "source": [
    "a = float(input(\"enter a number\"))\n",
    "b = float(input(\"enter a number to divide by\"))\n",
    "\n",
    "try:\n",
    "    print(f\"the answer is {a/b}\")\n",
    "except:\n",
    "    print(sys.exc_info()[0])\n",
    "    print(\"this did not work. did you try to divide by zero or something?\")\n",
    "else:\n",
    "    print(\"you succesfully used the division feature in pthon\")\n",
    "    print(\"thank you for playing\")"
   ]
  },
  {
   "cell_type": "code",
   "execution_count": null,
   "id": "6fbc5862",
   "metadata": {},
   "outputs": [],
   "source": [
    "#other example"
   ]
  },
  {
   "cell_type": "code",
   "execution_count": 5,
   "id": "fdfb6cea",
   "metadata": {},
   "outputs": [
    {
     "name": "stdout",
     "output_type": "stream",
     "text": [
      "enter a number20\n",
      "enter a number to multiple by0\n",
      "<class 'ZeroDivisionError'>\n",
      "this did not work. did you try to mulpiple by zero or something?\n"
     ]
    }
   ],
   "source": [
    "a = float(input(\"enter a number\"))\n",
    "b = float(input(\"enter a number to multiple by\"))\n",
    "\n",
    "try:\n",
    "    print(f\"the answer is {a/b}\")\n",
    "except:\n",
    "    print(sys.exc_info()[0])\n",
    "    print(\"this did not work. did you try to mulpiple by zero or something?\")\n",
    "else:\n",
    "    print(\"you succesfully used the multiplication feature in pthon\")\n",
    "    print(\"thank you for playing\")"
   ]
  },
  {
   "cell_type": "code",
   "execution_count": null,
   "id": "8eba10a0",
   "metadata": {},
   "outputs": [],
   "source": []
  }
 ],
 "metadata": {
  "kernelspec": {
   "display_name": "Python 3 (ipykernel)",
   "language": "python",
   "name": "python3"
  },
  "language_info": {
   "codemirror_mode": {
    "name": "ipython",
    "version": 3
   },
   "file_extension": ".py",
   "mimetype": "text/x-python",
   "name": "python",
   "nbconvert_exporter": "python",
   "pygments_lexer": "ipython3",
   "version": "3.9.12"
  }
 },
 "nbformat": 4,
 "nbformat_minor": 5
}
