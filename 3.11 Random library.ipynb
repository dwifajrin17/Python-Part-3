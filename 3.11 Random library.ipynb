{
 "cells": [
  {
   "cell_type": "markdown",
   "id": "9b240862",
   "metadata": {},
   "source": [
    "Random library\n",
    "\n",
    " - This module implements pseudo-random number generators for various distributions"
   ]
  },
  {
   "cell_type": "code",
   "execution_count": 1,
   "id": "a865b891",
   "metadata": {},
   "outputs": [],
   "source": [
    "#example of random integer\n",
    "#random.randint, Returns a random number between the given range\n",
    "\n",
    "from random import randint"
   ]
  },
  {
   "cell_type": "code",
   "execution_count": 2,
   "id": "cea53c0a",
   "metadata": {},
   "outputs": [
    {
     "name": "stdout",
     "output_type": "stream",
     "text": [
      "random num 0 is 8\n",
      "random num 1 is 4\n",
      "random num 2 is 7\n",
      "random num 3 is 3\n",
      "random num 4 is 4\n",
      "random num 5 is 1\n",
      "random num 6 is 7\n",
      "random num 7 is 7\n",
      "random num 8 is 1\n",
      "random num 9 is 7\n"
     ]
    }
   ],
   "source": [
    "for i in range(10):\n",
    "    print(f\"random num {i} is {randint(1,10)}\")"
   ]
  },
  {
   "cell_type": "code",
   "execution_count": 3,
   "id": "263f84a5",
   "metadata": {},
   "outputs": [],
   "source": [
    "#example of random range\n",
    "#random.range, Returns a random number between the given range\n",
    "\n",
    "#display even number in range 1-20\n",
    "from random import randrange"
   ]
  },
  {
   "cell_type": "code",
   "execution_count": 4,
   "id": "bd8c7bb0",
   "metadata": {},
   "outputs": [
    {
     "name": "stdout",
     "output_type": "stream",
     "text": [
      "random num 0 is 14\n",
      "random num 1 is 16\n",
      "random num 2 is 10\n",
      "random num 3 is 14\n",
      "random num 4 is 10\n",
      "random num 5 is 4\n",
      "random num 6 is 10\n",
      "random num 7 is 14\n",
      "random num 8 is 14\n",
      "random num 9 is 2\n"
     ]
    }
   ],
   "source": [
    "for i in range(10):\n",
    "    print(f\"random num {i} is {randrange(2,20,2)}\")"
   ]
  },
  {
   "cell_type": "code",
   "execution_count": null,
   "id": "600b015f",
   "metadata": {},
   "outputs": [],
   "source": []
  }
 ],
 "metadata": {
  "kernelspec": {
   "display_name": "Python 3 (ipykernel)",
   "language": "python",
   "name": "python3"
  },
  "language_info": {
   "codemirror_mode": {
    "name": "ipython",
    "version": 3
   },
   "file_extension": ".py",
   "mimetype": "text/x-python",
   "name": "python",
   "nbconvert_exporter": "python",
   "pygments_lexer": "ipython3",
   "version": "3.9.12"
  }
 },
 "nbformat": 4,
 "nbformat_minor": 5
}
