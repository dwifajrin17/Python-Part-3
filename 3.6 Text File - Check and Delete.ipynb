{
 "cells": [
  {
   "cell_type": "markdown",
   "id": "43199c82",
   "metadata": {},
   "source": [
    "Check existence\n",
    "\n",
    "   - to check if a file exist, you can use is_file() "
   ]
  },
  {
   "cell_type": "code",
   "execution_count": 1,
   "id": "52b9484f",
   "metadata": {},
   "outputs": [
    {
     "name": "stdout",
     "output_type": "stream",
     "text": [
      "Tuliskan baris baru! Gita, 2001\n"
     ]
    }
   ],
   "source": [
    "#(a) opens a file for appending at the end of the file without truncating it. Creates a new file if it does not exist\n",
    "\n",
    "import os\n",
    "\n",
    "if os.path.isfile('tahun_lahir.txt'):\n",
    "    writeFile = open('tahun_lahir.txt', 'a')\n",
    "else:\n",
    "    writeFile = open('tahun_lahir.txt', 'w')\n",
    "    \n",
    "totahun_lahir = input(\"Tuliskan baris baru!\")\n",
    "writeFile.write(\"\\n\" + totahun_lahir)\n",
    "writeFile.close()"
   ]
  },
  {
   "cell_type": "markdown",
   "id": "c0eb093b",
   "metadata": {},
   "source": [
    "Delete file\n",
    "\n",
    "   - to delete a file, you can use os.remove() method in Python "
   ]
  },
  {
   "cell_type": "code",
   "execution_count": 4,
   "id": "fb6cc429",
   "metadata": {},
   "outputs": [
    {
     "name": "stdout",
     "output_type": "stream",
     "text": [
      "the new file has been removed\n"
     ]
    }
   ],
   "source": [
    "import os\n",
    "\n",
    "if os.path.isfile('new.txt'):\n",
    "    os.remove('new.txt')\n",
    "    print(\"the new file has been removed\")\n",
    "else:\n",
    "    print(\"there was no new file to remove\")"
   ]
  },
  {
   "cell_type": "code",
   "execution_count": null,
   "id": "c14d7e6d",
   "metadata": {},
   "outputs": [],
   "source": [
    "#example for a file that did'nt exist, it will appear print \"there was no file to removed\""
   ]
  },
  {
   "cell_type": "code",
   "execution_count": 3,
   "id": "39f1aab9",
   "metadata": {},
   "outputs": [
    {
     "name": "stdout",
     "output_type": "stream",
     "text": [
      "there was no file to remove\n"
     ]
    }
   ],
   "source": [
    "if os.path.isfile('new_txt_byme.txt'):\n",
    "    os.remove('new_txt_byme.txt')\n",
    "    print(\"the new_txt file has been removed\")\n",
    "else:\n",
    "    print(\"there was no file to remove\")"
   ]
  },
  {
   "cell_type": "code",
   "execution_count": null,
   "id": "153b61d9",
   "metadata": {},
   "outputs": [],
   "source": []
  }
 ],
 "metadata": {
  "kernelspec": {
   "display_name": "Python 3 (ipykernel)",
   "language": "python",
   "name": "python3"
  },
  "language_info": {
   "codemirror_mode": {
    "name": "ipython",
    "version": 3
   },
   "file_extension": ".py",
   "mimetype": "text/x-python",
   "name": "python",
   "nbconvert_exporter": "python",
   "pygments_lexer": "ipython3",
   "version": "3.9.12"
  }
 },
 "nbformat": 4,
 "nbformat_minor": 5
}
