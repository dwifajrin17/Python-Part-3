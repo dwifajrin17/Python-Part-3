{
 "cells": [
  {
   "cell_type": "markdown",
   "id": "88cc2a09",
   "metadata": {},
   "source": [
    "Check existence\n",
    "\n",
    "   - os path, this module implements some useful functions on pathnames. To read or write files see open(), and for accessing the filesystem see the os module\n",
    "\n",
    "   - to check if a file exist, you can use is_file() "
   ]
  },
  {
   "cell_type": "code",
   "execution_count": 1,
   "id": "1362157b",
   "metadata": {},
   "outputs": [
    {
     "name": "stdout",
     "output_type": "stream",
     "text": [
      "Tuliskan baris baru! Gita, 2001\n"
     ]
    }
   ],
   "source": [
    "#(a) opens a file for appending at the end of the file without truncating it. Creates a new file if it does not exist\n",
    "#(w) Opens a file for writing. Creates a new file if it does not exist or truncates the file if it exists\n",
    "\n",
    "import os\n",
    "\n",
    "if os.path.isfile('tahun_lahir.txt'):\n",
    "    writeFile = open('tahun_lahir.txt', 'a')\n",
    "else:\n",
    "    writeFile = open('tahun_lahir.txt', 'w')\n",
    "    \n",
    "totahun_lahir = input(\"Tuliskan baris baru!\")\n",
    "writeFile.write(\"\\n\" + totahun_lahir)\n",
    "writeFile.close()"
   ]
  },
  {
   "cell_type": "markdown",
   "id": "22a5bf7f",
   "metadata": {},
   "source": [
    "Delete file\n",
    "\n",
    "   - to delete a file, you can use os.remove() method in Python "
   ]
  },
  {
   "cell_type": "code",
   "execution_count": 4,
   "id": "0d97cf32",
   "metadata": {},
   "outputs": [
    {
     "name": "stdout",
     "output_type": "stream",
     "text": [
      "the new file has been removed\n"
     ]
    }
   ],
   "source": [
    "import os\n",
    "\n",
    "if os.path.isfile('new.txt'):\n",
    "    os.remove('new.txt')\n",
    "    print(\"the new file has been removed\")\n",
    "else:\n",
    "    print(\"there was no new file to remove\")"
   ]
  },
  {
   "cell_type": "code",
   "execution_count": null,
   "id": "a50e9c72",
   "metadata": {},
   "outputs": [],
   "source": [
    "#example for a file that did'nt exist, it will appear print \"there was no file to removed\""
   ]
  },
  {
   "cell_type": "code",
   "execution_count": 3,
   "id": "475bd074",
   "metadata": {},
   "outputs": [
    {
     "name": "stdout",
     "output_type": "stream",
     "text": [
      "there was no file to remove\n"
     ]
    }
   ],
   "source": [
    "if os.path.isfile('new_txt_byme.txt'):\n",
    "    os.remove('new_txt_byme.txt')\n",
    "    print(\"the new_txt file has been removed\")\n",
    "else:\n",
    "    print(\"there was no file to remove\")"
   ]
  },
  {
   "cell_type": "code",
   "execution_count": null,
   "id": "b9b2d3cf",
   "metadata": {},
   "outputs": [],
   "source": []
  }
 ],
 "metadata": {
  "kernelspec": {
   "display_name": "Python 3 (ipykernel)",
   "language": "python",
   "name": "python3"
  },
  "language_info": {
   "codemirror_mode": {
    "name": "ipython",
    "version": 3
   },
   "file_extension": ".py",
   "mimetype": "text/x-python",
   "name": "python",
   "nbconvert_exporter": "python",
   "pygments_lexer": "ipython3",
   "version": "3.9.12"
  }
 },
 "nbformat": 4,
 "nbformat_minor": 5
}
