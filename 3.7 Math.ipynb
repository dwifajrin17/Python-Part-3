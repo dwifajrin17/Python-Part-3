{
 "cells": [
  {
   "cell_type": "markdown",
   "id": "5b7f0391",
   "metadata": {},
   "source": [
    "Math\n",
    "\n",
    "- You can use math module for mathematical tasks, the math module has a set of methods and constants"
   ]
  },
  {
   "cell_type": "code",
   "execution_count": 1,
   "id": "e0479462",
   "metadata": {},
   "outputs": [],
   "source": [
    "import math"
   ]
  },
  {
   "cell_type": "code",
   "execution_count": 2,
   "id": "ddbdaa0a",
   "metadata": {},
   "outputs": [],
   "source": [
    "pi = math.pi"
   ]
  },
  {
   "cell_type": "code",
   "execution_count": 3,
   "id": "066f9b75",
   "metadata": {},
   "outputs": [
    {
     "data": {
      "text/plain": [
       "3.141592653589793"
      ]
     },
     "execution_count": 3,
     "metadata": {},
     "output_type": "execute_result"
    }
   ],
   "source": [
    "pi"
   ]
  },
  {
   "cell_type": "code",
   "execution_count": 4,
   "id": "a5312975",
   "metadata": {},
   "outputs": [],
   "source": [
    "#The math.ceil() method rounds a number upwards to its nearest integer\n",
    "#and the math.floor() method rounds a number downwards to its nearest integer"
   ]
  },
  {
   "cell_type": "code",
   "execution_count": 5,
   "id": "176e344d",
   "metadata": {},
   "outputs": [],
   "source": [
    "upperBound = math.ceil(pi)"
   ]
  },
  {
   "cell_type": "code",
   "execution_count": 6,
   "id": "a1091c9f",
   "metadata": {},
   "outputs": [
    {
     "data": {
      "text/plain": [
       "4"
      ]
     },
     "execution_count": 6,
     "metadata": {},
     "output_type": "execute_result"
    }
   ],
   "source": [
    "upperBound"
   ]
  },
  {
   "cell_type": "code",
   "execution_count": 7,
   "id": "1858455b",
   "metadata": {},
   "outputs": [],
   "source": [
    "lowerBound = math.floor(pi)"
   ]
  },
  {
   "cell_type": "code",
   "execution_count": 8,
   "id": "1c5879ac",
   "metadata": {},
   "outputs": [
    {
     "data": {
      "text/plain": [
       "3"
      ]
     },
     "execution_count": 8,
     "metadata": {},
     "output_type": "execute_result"
    }
   ],
   "source": [
    "lowerBound"
   ]
  },
  {
   "cell_type": "code",
   "execution_count": null,
   "id": "173010ee",
   "metadata": {},
   "outputs": [],
   "source": [
    "#Challenge\n",
    "#Circle area formula"
   ]
  },
  {
   "cell_type": "code",
   "execution_count": 9,
   "id": "b8dfc70a",
   "metadata": {},
   "outputs": [
    {
     "data": {
      "text/plain": [
       "314.1592653589793"
      ]
     },
     "execution_count": 9,
     "metadata": {},
     "output_type": "execute_result"
    }
   ],
   "source": [
    "r = 10\n",
    "pi = math.pi\n",
    "circlearea = pi*(r*r)\n",
    "circlearea"
   ]
  },
  {
   "cell_type": "code",
   "execution_count": 10,
   "id": "28f70a24",
   "metadata": {},
   "outputs": [],
   "source": [
    "upperBound = math.ceil(math.pi*(r*r))"
   ]
  },
  {
   "cell_type": "code",
   "execution_count": 11,
   "id": "f8b87b38",
   "metadata": {},
   "outputs": [
    {
     "data": {
      "text/plain": [
       "315"
      ]
     },
     "execution_count": 11,
     "metadata": {},
     "output_type": "execute_result"
    }
   ],
   "source": [
    "upperBound"
   ]
  },
  {
   "cell_type": "code",
   "execution_count": 12,
   "id": "f1225843",
   "metadata": {},
   "outputs": [],
   "source": [
    "lowerBound = math.floor(math.pi*(r*r))"
   ]
  },
  {
   "cell_type": "code",
   "execution_count": 13,
   "id": "689c953b",
   "metadata": {},
   "outputs": [
    {
     "data": {
      "text/plain": [
       "314"
      ]
     },
     "execution_count": 13,
     "metadata": {},
     "output_type": "execute_result"
    }
   ],
   "source": [
    "lowerBound"
   ]
  },
  {
   "cell_type": "code",
   "execution_count": null,
   "id": "d11be806",
   "metadata": {},
   "outputs": [],
   "source": []
  }
 ],
 "metadata": {
  "kernelspec": {
   "display_name": "Python 3 (ipykernel)",
   "language": "python",
   "name": "python3"
  },
  "language_info": {
   "codemirror_mode": {
    "name": "ipython",
    "version": 3
   },
   "file_extension": ".py",
   "mimetype": "text/x-python",
   "name": "python",
   "nbconvert_exporter": "python",
   "pygments_lexer": "ipython3",
   "version": "3.9.12"
  }
 },
 "nbformat": 4,
 "nbformat_minor": 5
}
