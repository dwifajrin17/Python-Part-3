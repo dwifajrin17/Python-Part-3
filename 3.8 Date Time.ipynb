{
 "cells": [
  {
   "cell_type": "markdown",
   "id": "a1d3c8f9",
   "metadata": {},
   "source": [
    "Datetime\n",
    "\n",
    "   - A date in Python is not a data type of its own, but we can import a module named datetime to work with dates as date objects"
   ]
  },
  {
   "cell_type": "code",
   "execution_count": 1,
   "id": "cfe6308d",
   "metadata": {},
   "outputs": [],
   "source": [
    "import datetime"
   ]
  },
  {
   "cell_type": "code",
   "execution_count": 2,
   "id": "9ace384d",
   "metadata": {},
   "outputs": [],
   "source": [
    "#example display date and time\n",
    "\n",
    "todayWithTime = datetime.datetime.today()"
   ]
  },
  {
   "cell_type": "code",
   "execution_count": 3,
   "id": "ecd0e4cf",
   "metadata": {},
   "outputs": [
    {
     "data": {
      "text/plain": [
       "datetime.datetime(2022, 10, 9, 19, 29, 38, 84244)"
      ]
     },
     "execution_count": 3,
     "metadata": {},
     "output_type": "execute_result"
    }
   ],
   "source": [
    "todayWithTime"
   ]
  },
  {
   "cell_type": "code",
   "execution_count": 4,
   "id": "a0be471c",
   "metadata": {},
   "outputs": [
    {
     "data": {
      "text/plain": [
       "datetime.date(2022, 10, 9)"
      ]
     },
     "execution_count": 4,
     "metadata": {},
     "output_type": "execute_result"
    }
   ],
   "source": [
    "#example display date \n",
    "\n",
    "todayWithoutTime = datetime.date.today()\n",
    "todayWithoutTime"
   ]
  },
  {
   "cell_type": "markdown",
   "id": "78e8f2eb",
   "metadata": {},
   "source": [
    "- The datetime object has a method for formatting date objects into readable strings\n",
    "\n",
    "- The method is called strftime(), and takes one parameter, format, to specify the format of the returned string"
   ]
  },
  {
   "cell_type": "code",
   "execution_count": 5,
   "id": "dc4411c8",
   "metadata": {},
   "outputs": [],
   "source": [
    "#Example display hour, minute and second\n",
    "\n",
    "formatting_time = datetime.datetime.strftime(todayWithTime, \"%H: %M: %S\")"
   ]
  },
  {
   "cell_type": "code",
   "execution_count": 6,
   "id": "c0ebb38a",
   "metadata": {},
   "outputs": [
    {
     "data": {
      "text/plain": [
       "'19: 29: 38'"
      ]
     },
     "execution_count": 6,
     "metadata": {},
     "output_type": "execute_result"
    }
   ],
   "source": [
    "formatting_time"
   ]
  },
  {
   "cell_type": "code",
   "execution_count": 7,
   "id": "606c770e",
   "metadata": {},
   "outputs": [],
   "source": [
    "#Example display month as number 01-12, day of month 01-31, year full version\n",
    "\n",
    "formatting_date = datetime.datetime.strftime(todayWithoutTime, \"%m/%d/%Y\")"
   ]
  },
  {
   "cell_type": "code",
   "execution_count": 8,
   "id": "f1b7130c",
   "metadata": {},
   "outputs": [
    {
     "data": {
      "text/plain": [
       "'10/09/2022'"
      ]
     },
     "execution_count": 8,
     "metadata": {},
     "output_type": "execute_result"
    }
   ],
   "source": [
    "formatting_date"
   ]
  },
  {
   "cell_type": "code",
   "execution_count": 9,
   "id": "1676d497",
   "metadata": {},
   "outputs": [],
   "source": [
    "#display format date by using number of each day and month\n",
    "\n",
    "formatting_date2 = datetime.datetime.strftime(todayWithoutTime, \"%d-%m-%Y\")"
   ]
  },
  {
   "cell_type": "code",
   "execution_count": 10,
   "id": "09645d51",
   "metadata": {},
   "outputs": [
    {
     "data": {
      "text/plain": [
       "'09-10-2022'"
      ]
     },
     "execution_count": 10,
     "metadata": {},
     "output_type": "execute_result"
    }
   ],
   "source": [
    "formatting_date2"
   ]
  },
  {
   "cell_type": "code",
   "execution_count": 11,
   "id": "253ceb9a",
   "metadata": {},
   "outputs": [],
   "source": [
    "#display format month by using month name full version\n",
    "\n",
    "month = datetime.datetime.strftime(todayWithoutTime, '%B')"
   ]
  },
  {
   "cell_type": "code",
   "execution_count": 12,
   "id": "992e4589",
   "metadata": {},
   "outputs": [
    {
     "data": {
      "text/plain": [
       "'October'"
      ]
     },
     "execution_count": 12,
     "metadata": {},
     "output_type": "execute_result"
    }
   ],
   "source": [
    "month"
   ]
  },
  {
   "cell_type": "code",
   "execution_count": 13,
   "id": "68b929ce",
   "metadata": {},
   "outputs": [],
   "source": [
    "#display format day by using day name full version\n",
    "\n",
    "day = datetime.datetime.strftime(todayWithoutTime, '%A')"
   ]
  },
  {
   "cell_type": "code",
   "execution_count": 14,
   "id": "fd3e1d6f",
   "metadata": {},
   "outputs": [
    {
     "data": {
      "text/plain": [
       "'Sunday'"
      ]
     },
     "execution_count": 14,
     "metadata": {},
     "output_type": "execute_result"
    }
   ],
   "source": [
    "day"
   ]
  },
  {
   "cell_type": "code",
   "execution_count": null,
   "id": "04ba0d34",
   "metadata": {},
   "outputs": [],
   "source": []
  }
 ],
 "metadata": {
  "kernelspec": {
   "display_name": "Python 3 (ipykernel)",
   "language": "python",
   "name": "python3"
  },
  "language_info": {
   "codemirror_mode": {
    "name": "ipython",
    "version": 3
   },
   "file_extension": ".py",
   "mimetype": "text/x-python",
   "name": "python",
   "nbconvert_exporter": "python",
   "pygments_lexer": "ipython3",
   "version": "3.9.12"
  }
 },
 "nbformat": 4,
 "nbformat_minor": 5
}
