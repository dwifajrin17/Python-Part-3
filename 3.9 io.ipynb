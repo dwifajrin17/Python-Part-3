{
 "cells": [
  {
   "cell_type": "markdown",
   "id": "c61c0466",
   "metadata": {},
   "source": [
    "  - open() function to open a file. This function returns a file object, also called a handle, as it is used to read or modify the file accordingly\n",
    " \n",
    "- (w)\tOpens a file for writing. Creates a new file if it does not exist or truncates the file if it exists."
   ]
  },
  {
   "cell_type": "code",
   "execution_count": 1,
   "id": "29165761",
   "metadata": {},
   "outputs": [],
   "source": [
    "import io"
   ]
  },
  {
   "cell_type": "code",
   "execution_count": 2,
   "id": "47f219d3",
   "metadata": {},
   "outputs": [
    {
     "name": "stdout",
     "output_type": "stream",
     "text": [
      "what happen today? as good as usual\n"
     ]
    }
   ],
   "source": [
    "with open('my_story.txt', 'w') as writeFile:\n",
    "    tomy_story =  input(\"what happen today?\")\n",
    "    writeFile.write(tomy_story)"
   ]
  },
  {
   "cell_type": "code",
   "execution_count": null,
   "id": "a336037c",
   "metadata": {},
   "outputs": [],
   "source": []
  }
 ],
 "metadata": {
  "kernelspec": {
   "display_name": "Python 3 (ipykernel)",
   "language": "python",
   "name": "python3"
  },
  "language_info": {
   "codemirror_mode": {
    "name": "ipython",
    "version": 3
   },
   "file_extension": ".py",
   "mimetype": "text/x-python",
   "name": "python",
   "nbconvert_exporter": "python",
   "pygments_lexer": "ipython3",
   "version": "3.9.12"
  }
 },
 "nbformat": 4,
 "nbformat_minor": 5
}
